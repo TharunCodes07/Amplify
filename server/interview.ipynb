{
 "cells": [
  {
   "cell_type": "code",
   "execution_count": null,
   "metadata": {},
   "outputs": [],
   "source": [
    "from langchain_groq import ChatGroq\n",
    "llm = ChatGroq(groq_api_key = \"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\",model_name = \"llama-3.1-70b-versatile\")"
   ]
  },
  {
   "cell_type": "code",
   "execution_count": null,
   "metadata": {},
   "outputs": [],
   "source": [
    "from langchain import PromptTemplate\n",
    "import psycopg2\n",
    "from psycopg2 import sql\n",
    "from langchain.tools import tool\n",
    "\n",
    "@tool(\"generate_review\")\n",
    "def generate_review():\n",
    "     prompt = '''\n",
    "     You are an expert interviewer who is interviewing a candidate for a software engineering position. The candidate has answered your question with this response. If there was no previous question, you will get NULL. If there was no previous\n",
    "     '''"
   ]
  }
 ],
 "metadata": {
  "kernelspec": {
   "display_name": "torch-gpu",
   "language": "python",
   "name": "python3"
  },
  "language_info": {
   "name": "python",
   "version": "3.11.9"
  }
 },
 "nbformat": 4,
 "nbformat_minor": 2
}
